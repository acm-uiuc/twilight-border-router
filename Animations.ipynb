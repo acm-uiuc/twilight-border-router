{
 "cells": [
  {
   "cell_type": "markdown",
   "metadata": {},
   "source": [
    "# Import Statements"
   ]
  },
  {
   "cell_type": "code",
   "execution_count": 51,
   "metadata": {
    "collapsed": true
   },
   "outputs": [],
   "source": [
    "from itertools import cycle\n",
    "import time\n",
    "import math"
   ]
  },
  {
   "cell_type": "code",
   "execution_count": 46,
   "metadata": {},
   "outputs": [
    {
     "data": {
      "text/plain": [
       "0.8486111111111111"
      ]
     },
     "execution_count": 46,
     "metadata": {},
     "output_type": "execute_result"
    }
   ],
   "source": [
    "((time.localtime(time.time())[3] * 60 + time.localtime(time.time())[4])/1440)"
   ]
  },
  {
   "cell_type": "markdown",
   "metadata": {},
   "source": [
    "## Circadian Rhythym\n",
    "Given a time in hours $h$ and minutes $m$, we assign the color temperature of white light by the following: $f(h, m) = 4500 + 2000 \\cos{(((h* 60 + m) / 720 - 1) * \\pi)}$ \n",
    "\n",
    "The link to this function in wolfram is https://www.wolframalpha.com/input/?i=plot+(4500+%2B+2000cos((x%2F12+-+1)*+pi),+%7Bx,+0,+24%7D)"
   ]
  },
  {
   "cell_type": "code",
   "execution_count": 71,
   "metadata": {
    "collapsed": true
   },
   "outputs": [],
   "source": [
    "def kalvin_to_rgb(degrees):\n",
    "    temp = degrees / 100\n",
    "    red = 255\n",
    "    if temp > 66:\n",
    "        red = temp - 60\n",
    "        red = 329.698727446 * (red ^ -0.1332047592)\n",
    "        red = max(red, 0)\n",
    "        red = min(red, 255)\n",
    "        \n",
    "    green = 255\n",
    "    if temp > 66:\n",
    "        green = temp - 60\n",
    "        green = 288.1221695283 * (green ^ -0.0755148492)\n",
    "    else:\n",
    "        green = temp\n",
    "        green = 99.4708025861 * math.log(green) - 161.1195681661\n",
    "    green = max(green, 0)\n",
    "    green = min(green, 255)\n",
    "    \n",
    "    blue = 255\n",
    "    if temp < 66:\n",
    "        if temp <= 19:\n",
    "            blue = 0\n",
    "        else: \n",
    "            blue = temp - 10\n",
    "            blue = 138.5177312231 * math.log(blue) - 305.0447927307\n",
    "            blue = max(blue, 0)\n",
    "            blue = min(blue, 255)\n",
    "    \n",
    "    return (int(red), int(green), int(blue))"
   ]
  },
  {
   "cell_type": "markdown",
   "metadata": {},
   "source": [
    "Given a current time.time() from python, convert the time to kalvin based on f(h, m), and from there convert from kalvin to rgb. "
   ]
  },
  {
   "cell_type": "code",
   "execution_count": 72,
   "metadata": {
    "collapsed": true
   },
   "outputs": [],
   "source": [
    "def circadian_rhythym(current_time):\n",
    "    local = time.localtime(current_time)\n",
    "    ratio = (local[3] * 60 + local[4])/720\n",
    "    color_temp = 4500 + 2000 * math.cos((ratio - 1) * math.pi)\n",
    "    return kalvin_to_rgb(color_temp)"
   ]
  },
  {
   "cell_type": "code",
   "execution_count": 73,
   "metadata": {},
   "outputs": [
    {
     "data": {
      "text/plain": [
       "(255, 182, 120)"
      ]
     },
     "execution_count": 73,
     "metadata": {},
     "output_type": "execute_result"
    }
   ],
   "source": [
    "circadian_rhythym(time.time())"
   ]
  },
  {
   "cell_type": "code",
   "execution_count": 26,
   "metadata": {
    "collapsed": true
   },
   "outputs": [],
   "source": [
    "def create_raindrops(rgbs, gap_size = 5):\n",
    "    for rgb in rgbs: \n",
    "        print(rgb)\n",
    "        if type(rgb) is not tuple or len(rgb) is not 3:\n",
    "            raise Exception('rgbs must be a list of triplets of integers')\n",
    "        elif any ([(x < 0 or x > 255 or type(x) is not int) for x in rgb]):\n",
    "            raise Exception('rgb values must be integers between 0 and 255')\n",
    "    return raindrops(rgbs, gap_size)"
   ]
  },
  {
   "cell_type": "code",
   "execution_count": 28,
   "metadata": {},
   "outputs": [],
   "source": [
    "def raindrops(rgbs, gap_size = 5):\n",
    "    rgb_cycle = cycle(rgbs)\n",
    "    curr_rgb = next(rgb_cycle)\n",
    "    blanked = 0\n",
    "    while True:\n",
    "        if blanked % gap_size is 0:\n",
    "            yield curr_rgb\n",
    "            curr_rgb = next(rgb_cycle)\n",
    "        else:\n",
    "            yield (0, 0, 0)\n",
    "        blanked += 1"
   ]
  },
  {
   "cell_type": "code",
   "execution_count": 35,
   "metadata": {
    "collapsed": true
   },
   "outputs": [],
   "source": [
    "rain = raindrops([(54, 55, 67), (34, 66, 90)], 9)"
   ]
  },
  {
   "cell_type": "code",
   "execution_count": 36,
   "metadata": {},
   "outputs": [
    {
     "name": "stdout",
     "output_type": "stream",
     "text": [
      "(54, 55, 67)\n",
      "(0, 0, 0)\n",
      "(0, 0, 0)\n",
      "(0, 0, 0)\n",
      "(0, 0, 0)\n",
      "(0, 0, 0)\n",
      "(0, 0, 0)\n",
      "(0, 0, 0)\n",
      "(0, 0, 0)\n",
      "(34, 66, 90)\n",
      "(0, 0, 0)\n",
      "(0, 0, 0)\n",
      "(0, 0, 0)\n",
      "(0, 0, 0)\n",
      "(0, 0, 0)\n",
      "(0, 0, 0)\n",
      "(0, 0, 0)\n",
      "(0, 0, 0)\n",
      "(54, 55, 67)\n",
      "(0, 0, 0)\n",
      "(0, 0, 0)\n",
      "(0, 0, 0)\n",
      "(0, 0, 0)\n",
      "(0, 0, 0)\n",
      "(0, 0, 0)\n",
      "(0, 0, 0)\n",
      "(0, 0, 0)\n",
      "(34, 66, 90)\n",
      "(0, 0, 0)\n",
      "(0, 0, 0)\n",
      "(0, 0, 0)\n",
      "(0, 0, 0)\n",
      "(0, 0, 0)\n",
      "(0, 0, 0)\n",
      "(0, 0, 0)\n",
      "(0, 0, 0)\n",
      "(54, 55, 67)\n",
      "(0, 0, 0)\n",
      "(0, 0, 0)\n",
      "(0, 0, 0)\n"
     ]
    }
   ],
   "source": [
    "for _ in range(40):\n",
    "    print(next(rain))"
   ]
  },
  {
   "cell_type": "code",
   "execution_count": 7,
   "metadata": {},
   "outputs": [
    {
     "data": {
      "text/plain": [
       "True"
      ]
     },
     "execution_count": 7,
     "metadata": {},
     "output_type": "execute_result"
    }
   ],
   "source": [
    "a = (5,6,7)\n",
    "type (a) is tuple and len(a) is 3"
   ]
  },
  {
   "cell_type": "code",
   "execution_count": 8,
   "metadata": {},
   "outputs": [
    {
     "data": {
      "text/plain": [
       "int"
      ]
     },
     "execution_count": 8,
     "metadata": {},
     "output_type": "execute_result"
    }
   ],
   "source": [
    "type(3)"
   ]
  },
  {
   "cell_type": "code",
   "execution_count": 15,
   "metadata": {},
   "outputs": [
    {
     "name": "stdout",
     "output_type": "stream",
     "text": [
      "[False, False, False]\n",
      "[False, False, False]\n",
      "[True, False, False]\n"
     ]
    }
   ],
   "source": [
    "for rgb in [(5,4,3), (77,76,65), (-4, 4, 6)]:\n",
    "    print ([(x < 0 or x > 255 or type(x) is not int) for x in rgb])"
   ]
  },
  {
   "cell_type": "code",
   "execution_count": null,
   "metadata": {
    "collapsed": true
   },
   "outputs": [],
   "source": []
  }
 ],
 "metadata": {
  "kernelspec": {
   "display_name": "Python 3",
   "language": "python",
   "name": "python3"
  },
  "language_info": {
   "codemirror_mode": {
    "name": "ipython",
    "version": 3
   },
   "file_extension": ".py",
   "mimetype": "text/x-python",
   "name": "python",
   "nbconvert_exporter": "python",
   "pygments_lexer": "ipython3",
   "version": "3.6.1"
  }
 },
 "nbformat": 4,
 "nbformat_minor": 2
}
